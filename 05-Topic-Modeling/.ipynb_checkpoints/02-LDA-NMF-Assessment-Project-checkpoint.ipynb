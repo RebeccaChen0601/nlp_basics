{
 "cells": [
  {
   "cell_type": "markdown",
   "metadata": {},
   "source": [
    "___\n",
    "\n",
    "<a href='http://www.pieriandata.com'> <img src='../Pierian_Data_Logo.png' /></a>\n",
    "___"
   ]
  },
  {
   "cell_type": "markdown",
   "metadata": {
    "collapsed": true
   },
   "source": [
    "# Topic Modeling Assessment Project\n",
    "\n",
    "Welcome to your Topic Modeling Assessment! For this project you will be working with a dataset of over 400,000 quora questions that have no labeled cateogry, and attempting to find 20 cateogries to assign these questions to. The .csv file of these text questions can be found underneath the Topic-Modeling folder.\n",
    "\n",
    "Remember you can always check the solutions notebook and video lecture for any questions."
   ]
  },
  {
   "cell_type": "markdown",
   "metadata": {},
   "source": [
    "#### Task: Import pandas and read in the quora_questions.csv file."
   ]
  },
  {
   "cell_type": "code",
   "execution_count": 2,
   "metadata": {},
   "outputs": [],
   "source": [
    "import pandas as pd"
   ]
  },
  {
   "cell_type": "code",
   "execution_count": 52,
   "metadata": {
    "collapsed": true
   },
   "outputs": [],
   "source": [
    "df = pd.read_csv('quora_questions.csv')"
   ]
  },
  {
   "cell_type": "code",
   "execution_count": 4,
   "metadata": {},
   "outputs": [
    {
     "data": {
      "text/html": [
       "<div>\n",
       "<style scoped>\n",
       "    .dataframe tbody tr th:only-of-type {\n",
       "        vertical-align: middle;\n",
       "    }\n",
       "\n",
       "    .dataframe tbody tr th {\n",
       "        vertical-align: top;\n",
       "    }\n",
       "\n",
       "    .dataframe thead th {\n",
       "        text-align: right;\n",
       "    }\n",
       "</style>\n",
       "<table border=\"1\" class=\"dataframe\">\n",
       "  <thead>\n",
       "    <tr style=\"text-align: right;\">\n",
       "      <th></th>\n",
       "      <th>Question</th>\n",
       "    </tr>\n",
       "  </thead>\n",
       "  <tbody>\n",
       "    <tr>\n",
       "      <th>0</th>\n",
       "      <td>What is the step by step guide to invest in sh...</td>\n",
       "    </tr>\n",
       "    <tr>\n",
       "      <th>1</th>\n",
       "      <td>What is the story of Kohinoor (Koh-i-Noor) Dia...</td>\n",
       "    </tr>\n",
       "    <tr>\n",
       "      <th>2</th>\n",
       "      <td>How can I increase the speed of my internet co...</td>\n",
       "    </tr>\n",
       "    <tr>\n",
       "      <th>3</th>\n",
       "      <td>Why am I mentally very lonely? How can I solve...</td>\n",
       "    </tr>\n",
       "    <tr>\n",
       "      <th>4</th>\n",
       "      <td>Which one dissolve in water quikly sugar, salt...</td>\n",
       "    </tr>\n",
       "  </tbody>\n",
       "</table>\n",
       "</div>"
      ],
      "text/plain": [
       "                                            Question\n",
       "0  What is the step by step guide to invest in sh...\n",
       "1  What is the story of Kohinoor (Koh-i-Noor) Dia...\n",
       "2  How can I increase the speed of my internet co...\n",
       "3  Why am I mentally very lonely? How can I solve...\n",
       "4  Which one dissolve in water quikly sugar, salt..."
      ]
     },
     "execution_count": 4,
     "metadata": {},
     "output_type": "execute_result"
    }
   ],
   "source": [
    "df.head()"
   ]
  },
  {
   "cell_type": "markdown",
   "metadata": {},
   "source": [
    "# Preprocessing\n",
    "\n",
    "#### Task: Use TF-IDF Vectorization to create a vectorized document term matrix. You may want to explore the max_df and min_df parameters."
   ]
  },
  {
   "cell_type": "code",
   "execution_count": 8,
   "metadata": {},
   "outputs": [],
   "source": [
    "from sklearn.feature_extraction.text import TfidfVectorizer"
   ]
  },
  {
   "cell_type": "code",
   "execution_count": 9,
   "metadata": {},
   "outputs": [],
   "source": [
    "tfidf = TfidfVectorizer(max_df=0.95, min_df=2, stop_words='english')"
   ]
  },
  {
   "cell_type": "code",
   "execution_count": 14,
   "metadata": {},
   "outputs": [],
   "source": [
    "dtm = tfidf.fit_transform(df['Question'])"
   ]
  },
  {
   "cell_type": "code",
   "execution_count": 15,
   "metadata": {},
   "outputs": [
    {
     "data": {
      "text/plain": [
       "<404289x38669 sparse matrix of type '<class 'numpy.float64'>'\n",
       "\twith 2002912 stored elements in Compressed Sparse Row format>"
      ]
     },
     "execution_count": 15,
     "metadata": {},
     "output_type": "execute_result"
    }
   ],
   "source": [
    "dtm"
   ]
  },
  {
   "cell_type": "markdown",
   "metadata": {},
   "source": [
    "# Non-negative Matrix Factorization\n",
    "\n",
    "#### TASK: Using Scikit-Learn create an instance of NMF with 20 expected components. (Use random_state=42).."
   ]
  },
  {
   "cell_type": "code",
   "execution_count": 17,
   "metadata": {},
   "outputs": [],
   "source": [
    "from sklearn.decomposition import NMF"
   ]
  },
  {
   "cell_type": "code",
   "execution_count": 18,
   "metadata": {},
   "outputs": [],
   "source": [
    "nmf = NMF(n_components=20,random_state=42)"
   ]
  },
  {
   "cell_type": "code",
   "execution_count": 20,
   "metadata": {},
   "outputs": [
    {
     "data": {
      "text/plain": [
       "NMF(alpha=0.0, beta_loss='frobenius', init=None, l1_ratio=0.0, max_iter=200,\n",
       "  n_components=20, random_state=42, shuffle=False, solver='cd', tol=0.0001,\n",
       "  verbose=0)"
      ]
     },
     "execution_count": 20,
     "metadata": {},
     "output_type": "execute_result"
    }
   ],
   "source": [
    "nmf.fit(dtm)"
   ]
  },
  {
   "cell_type": "markdown",
   "metadata": {},
   "source": [
    "#### TASK: Print our the top 15 most common words for each of the 20 topics."
   ]
  },
  {
   "cell_type": "code",
   "execution_count": 24,
   "metadata": {},
   "outputs": [
    {
     "name": "stdout",
     "output_type": "stream",
     "text": [
      "The top 15 words for topic # 0\n",
      "['00', 'moist', 'moi', 'mohit', 'mohawk', 'mohanlal', 'mohaniya', 'mohammed', 'mohammad', 'mogul', 'modulus', 'modulo', 'moisture', 'modulator', 'modoc']\n",
      "\n",
      "\n",
      "The top 15 words for topic # 1\n",
      "['kiev', 'legislatures', 'legislated', 'legionaries', 'leggings', 'legarro', 'legalizing', 'legalized', 'legitimately', 'legalize', 'legalised', 'legalise', 'legacy', 'leftists', 'leetcode']\n",
      "\n",
      "\n",
      "The top 15 words for topic # 2\n",
      "['00', 'nomura', 'nominees', 'nominations', 'nominated', 'nominate', 'nominal', 'nomenclature', 'nomenclated', 'nomads', 'nomad', 'noisy', 'noises', 'noiseless', 'non']\n",
      "\n",
      "\n",
      "The top 15 words for topic # 3\n",
      "['kiev', 'niger', 'nigam', 'nifty', 'nift', 'nietzsche', 'nieto', 'nielit', 'niece', 'nie', 'nidorina', 'nidhi', 'nid', 'nicotine', 'nigerians']\n",
      "\n",
      "\n",
      "The top 15 words for topic # 4\n",
      "['kiev', 'nakamoto', 'najeeb', 'nairs', 'nair', 'nainital', 'nails', 'naik', 'nai', 'nahco3', 'nahan', 'nagpur', 'nagisa', 'nalla', 'nagato']\n",
      "\n",
      "\n",
      "The top 15 words for topic # 5\n",
      "['kiev', 'modifications', 'modesto', 'modest', 'moderator', 'moderation', 'moderating', 'moderately', 'moderated', 'moderate', 'modems', 'modeler', 'modified', 'modelandtalentagency', 'modding']\n",
      "\n",
      "\n",
      "The top 15 words for topic # 6\n",
      "['00', 'nonmetal', 'nonliving', 'nonfiction', 'nonexistent', 'nonetheless', 'nondisturbing', 'nonatomic', 'nomura', 'nominees', 'nominee', 'nominations', 'nomination', 'nominated', 'nonmetals']\n",
      "\n",
      "\n",
      "The top 15 words for topic # 7\n",
      "['00', 'multitasking', 'multisim', 'multiprocessing', 'multipolar', 'multiplying', 'multiply', 'multipliers', 'multiplier', 'multiplied', 'multiplication', 'multiplexing', 'multiplexers', 'multiplexer', 'multiples']\n",
      "\n",
      "\n",
      "The top 15 words for topic # 8\n",
      "['하지만', 'teamviewer', 'tear', 'inventions', 'teas', 'tease', 'teased', 'teaser', 'invariant', 'invalidating', 'invalidated', 'invalidate', 'invalid', 'teasers', 'invaders']\n",
      "\n",
      "\n",
      "The top 15 words for topic # 9\n",
      "['하지만', 'jiocinema', 'jio', 't2', 'jinns', 'jinnah', 't20', 't4', 'jill', 't450s', 'jiofi', 'jiit', 'jihad', 'jigsaw', 'jigglypuff']\n",
      "\n",
      "\n",
      "The top 15 words for topic # 10\n",
      "['kiev', 'maneka', 'mandolin', 'mandela', 'mandate', 'mandarins', 'mandarin', 'mandaluyong', 'manchuria', 'manchu', 'maneuver', 'manages', 'manage', 'manafort', 'mana']\n",
      "\n",
      "\n",
      "The top 15 words for topic # 11\n",
      "['kiev', 'mvp', 'mvj', 'mvc', 'muzzle', 'mux', 'mutualism', 'mutton', 'muting', 'muted', 'mutation', 'mutated', 'mutate', 'mutants', 'mutant']\n",
      "\n",
      "\n",
      "The top 15 words for topic # 12\n",
      "['kiev', 'microcontrollers', 'microcontroller', 'microcomputers', 'microblogging', 'microbiologist', 'microbial', 'microbes', 'microbeads', 'mickey', 'mick', 'michelin', 'michelangelo', 'michel', 'micheal']\n",
      "\n",
      "\n",
      "The top 15 words for topic # 13\n",
      "['kiev', 'noted', 'notebooks', 'notebooking', 'note3', 'notch', 'notbelieve', 'notation', 'notarized', 'notably', 'nosy', 'nostrils', 'nostril', 'nostradamus', 'notefull']\n",
      "\n",
      "\n",
      "The top 15 words for topic # 14\n",
      "['kiev', 'nerd', 'neptune', 'nepean', 'nepali', 'nepalese', 'nepal', 'neon', 'neomycin', 'neolithic', 'neoliberals', 'neoliberalism', 'neoliberal', 'neobux', 'neo4j']\n",
      "\n",
      "\n",
      "The top 15 words for topic # 15\n",
      "['하지만', 'lifter', 'lifted', 'lifestyles', 'lifestyle', 'liferay', 'lifeproof', 'lifeguard', 'lifecycle', 'lifebydesign', 'life', 'lieutenant', 'lien', 'lieing', 'unorganised']\n",
      "\n",
      "\n",
      "The top 15 words for topic # 16\n",
      "['00', 'nueroscience', 'nudity', 'nudist', 'nudging', 'nucleotides', 'nucleotide', 'nucleoplasm', 'nucleophile', 'nucleolus', 'nucleoid', 'nucleic', 'nuclear', 'nuance', 'nuevo']\n",
      "\n",
      "\n",
      "The top 15 words for topic # 17\n",
      "['kiev', 'naproxen', 'nappy', 'napoleonic', 'napoleon', 'napkins', 'naperville', 'napa', 'nap', 'naomi', 'nanyang', 'nanshan', 'nanosecond', 'nanophotonics', 'nanoparticles']\n",
      "\n",
      "\n",
      "The top 15 words for topic # 18\n",
      "['kiev', 'exclusiveness', 'overact', 'exco', 'excretory', 'excruciating', 'excursions', 'sultan', 'excused', 'ovechkin', 'sullivan', 'executes', 'ovaries', 'exclusively', 'execution']\n",
      "\n",
      "\n",
      "The top 15 words for topic # 19\n",
      "['kiev', 'misogynistic', 'misogynist', 'miso', 'mismatch', 'misinterpreted', 'misinformation', 'misheard', 'mishandling', 'mishandled', 'misguided', 'mises', 'misery', 'miserably', 'misdiagnosed']\n",
      "\n",
      "\n"
     ]
    }
   ],
   "source": [
    "for index,topic in enumerate(nmf.components_):\n",
    "    print(f'The top 15 words for topic # {index}')\n",
    "    print([tfidf.get_feature_names()[i] for i in topic.argsort()[:15]])\n",
    "    print('\\n')"
   ]
  },
  {
   "cell_type": "markdown",
   "metadata": {},
   "source": [
    "#### TASK: Add a new column to the original quora dataframe that labels each question into one of the 20 topic categories."
   ]
  },
  {
   "cell_type": "code",
   "execution_count": 25,
   "metadata": {},
   "outputs": [
    {
     "data": {
      "text/html": [
       "<div>\n",
       "<style scoped>\n",
       "    .dataframe tbody tr th:only-of-type {\n",
       "        vertical-align: middle;\n",
       "    }\n",
       "\n",
       "    .dataframe tbody tr th {\n",
       "        vertical-align: top;\n",
       "    }\n",
       "\n",
       "    .dataframe thead th {\n",
       "        text-align: right;\n",
       "    }\n",
       "</style>\n",
       "<table border=\"1\" class=\"dataframe\">\n",
       "  <thead>\n",
       "    <tr style=\"text-align: right;\">\n",
       "      <th></th>\n",
       "      <th>Question</th>\n",
       "    </tr>\n",
       "  </thead>\n",
       "  <tbody>\n",
       "    <tr>\n",
       "      <th>0</th>\n",
       "      <td>What is the step by step guide to invest in sh...</td>\n",
       "    </tr>\n",
       "    <tr>\n",
       "      <th>1</th>\n",
       "      <td>What is the story of Kohinoor (Koh-i-Noor) Dia...</td>\n",
       "    </tr>\n",
       "    <tr>\n",
       "      <th>2</th>\n",
       "      <td>How can I increase the speed of my internet co...</td>\n",
       "    </tr>\n",
       "    <tr>\n",
       "      <th>3</th>\n",
       "      <td>Why am I mentally very lonely? How can I solve...</td>\n",
       "    </tr>\n",
       "    <tr>\n",
       "      <th>4</th>\n",
       "      <td>Which one dissolve in water quikly sugar, salt...</td>\n",
       "    </tr>\n",
       "  </tbody>\n",
       "</table>\n",
       "</div>"
      ],
      "text/plain": [
       "                                            Question\n",
       "0  What is the step by step guide to invest in sh...\n",
       "1  What is the story of Kohinoor (Koh-i-Noor) Dia...\n",
       "2  How can I increase the speed of my internet co...\n",
       "3  Why am I mentally very lonely? How can I solve...\n",
       "4  Which one dissolve in water quikly sugar, salt..."
      ]
     },
     "execution_count": 25,
     "metadata": {},
     "output_type": "execute_result"
    }
   ],
   "source": [
    "df.head()"
   ]
  },
  {
   "cell_type": "code",
   "execution_count": 26,
   "metadata": {},
   "outputs": [],
   "source": [
    "topic_result = nmf.transform(dtm)\n",
    "df['topic'] = topic_result.argmax(axis=1)"
   ]
  },
  {
   "cell_type": "code",
   "execution_count": 27,
   "metadata": {},
   "outputs": [
    {
     "data": {
      "text/html": [
       "<div>\n",
       "<style scoped>\n",
       "    .dataframe tbody tr th:only-of-type {\n",
       "        vertical-align: middle;\n",
       "    }\n",
       "\n",
       "    .dataframe tbody tr th {\n",
       "        vertical-align: top;\n",
       "    }\n",
       "\n",
       "    .dataframe thead th {\n",
       "        text-align: right;\n",
       "    }\n",
       "</style>\n",
       "<table border=\"1\" class=\"dataframe\">\n",
       "  <thead>\n",
       "    <tr style=\"text-align: right;\">\n",
       "      <th></th>\n",
       "      <th>Question</th>\n",
       "      <th>topic</th>\n",
       "    </tr>\n",
       "  </thead>\n",
       "  <tbody>\n",
       "    <tr>\n",
       "      <th>0</th>\n",
       "      <td>What is the step by step guide to invest in sh...</td>\n",
       "      <td>5</td>\n",
       "    </tr>\n",
       "    <tr>\n",
       "      <th>1</th>\n",
       "      <td>What is the story of Kohinoor (Koh-i-Noor) Dia...</td>\n",
       "      <td>16</td>\n",
       "    </tr>\n",
       "    <tr>\n",
       "      <th>2</th>\n",
       "      <td>How can I increase the speed of my internet co...</td>\n",
       "      <td>17</td>\n",
       "    </tr>\n",
       "    <tr>\n",
       "      <th>3</th>\n",
       "      <td>Why am I mentally very lonely? How can I solve...</td>\n",
       "      <td>11</td>\n",
       "    </tr>\n",
       "    <tr>\n",
       "      <th>4</th>\n",
       "      <td>Which one dissolve in water quikly sugar, salt...</td>\n",
       "      <td>14</td>\n",
       "    </tr>\n",
       "  </tbody>\n",
       "</table>\n",
       "</div>"
      ],
      "text/plain": [
       "                                            Question  topic\n",
       "0  What is the step by step guide to invest in sh...      5\n",
       "1  What is the story of Kohinoor (Koh-i-Noor) Dia...     16\n",
       "2  How can I increase the speed of my internet co...     17\n",
       "3  Why am I mentally very lonely? How can I solve...     11\n",
       "4  Which one dissolve in water quikly sugar, salt...     14"
      ]
     },
     "execution_count": 27,
     "metadata": {},
     "output_type": "execute_result"
    }
   ],
   "source": [
    "df.head()"
   ]
  },
  {
   "cell_type": "markdown",
   "metadata": {},
   "source": [
    "# Great job!"
   ]
  }
 ],
 "metadata": {
  "kernelspec": {
   "display_name": "Python 3",
   "language": "python",
   "name": "python3"
  },
  "language_info": {
   "codemirror_mode": {
    "name": "ipython",
    "version": 3
   },
   "file_extension": ".py",
   "mimetype": "text/x-python",
   "name": "python",
   "nbconvert_exporter": "python",
   "pygments_lexer": "ipython3",
   "version": "3.7.4"
  }
 },
 "nbformat": 4,
 "nbformat_minor": 2
}
